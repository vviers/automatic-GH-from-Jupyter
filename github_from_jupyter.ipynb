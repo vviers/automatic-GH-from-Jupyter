{
 "cells": [
  {
   "cell_type": "markdown",
   "metadata": {},
   "source": [
    "## Automatically submitting a Jupyter Notebook to GitHub."
   ]
  },
  {
   "cell_type": "markdown",
   "metadata": {},
   "source": [
    "[Jupyter Notebooks](http://jupyter.org/) are one of my favorite tools for data science. They help you conduct a complete data analysis project by allowing you to contextualize and comment your code with text, equations, figures, etc. In fact, even this blog post has been created by a Jupyter Notebook.\n",
    "\n",
    "With [GitHub](https://github.com/vviers) being another of the tools I use on a daily basis (to keep track of my code, collaborate with other programmers, or host this blog), it only made sense that I would try and find a way to upload my Jupyter Notebooks to their designated repositories *from within themselves*. While this may not seem like a huge gain of time, it can actually be very useful for notebooks that are regularly re-run (i.e. using data that update daily) so that it is updated on GitHub everytime it is run successfully."
   ]
  },
  {
   "cell_type": "markdown",
   "metadata": {},
   "source": [
    "This notebook is for illustration purposes and so I'll just write a dumb piece of code and define a function that reverses any string you pass into it."
   ]
  },
  {
   "cell_type": "code",
   "execution_count": 1,
   "metadata": {},
   "outputs": [
    {
     "data": {
      "text/plain": [
       "'maps dna ,and ,spaM'"
      ]
     },
     "execution_count": 1,
     "metadata": {},
     "output_type": "execute_result"
    }
   ],
   "source": [
    "def reverse_string(input_string):\n",
    "    \"\"\"This function take a string as an argument and returns it in reverse order.\"\"\"    \n",
    "    assert(type(input_string) == str), \"{} is not a string!\".format(input_string)    \n",
    "    return(input_string[::-1])\n",
    "\n",
    "reverse_string(\"Maps, dna, and spam\") #see what I did there?"
   ]
  },
  {
   "cell_type": "markdown",
   "metadata": {},
   "source": [
    "Now I would like to push this Jupyter Notebook onto my GitHub. A little magic thing with Jupyter is that it allows you to pass calls to your terminal directly from within a regular code cell by simply prefixing them with the `!` operator. For example:"
   ]
  },
  {
   "cell_type": "code",
   "execution_count": 2,
   "metadata": {},
   "outputs": [
    {
     "name": "stdout",
     "output_type": "stream",
     "text": [
      "/Users/vincentviers/GIT/automatic-GH-from-Jupyter\r\n"
     ]
    }
   ],
   "source": [
    "! pwd"
   ]
  },
  {
   "cell_type": "markdown",
   "metadata": {},
   "source": [
    "So you can call git commands from within your notebook! The following cell does the following:\n",
    "\n",
    "1. create a commit message that keeps track of the last time the notebook was run.\n",
    "1. navigate to the root of the local repository on my computer (in case I somehow ended up navigating outside of it)\n",
    "1. create a text file with my commit message (you can use python variables in your bash commands by prefixing them with a `$`)\n",
    "1. stage and commit all files in the repository. `git commit -F` allows me to pass a file as a commit message.\n",
    "1. push the changes into my master branch"
   ]
  },
  {
   "cell_type": "code",
   "execution_count": 3,
   "metadata": {},
   "outputs": [
    {
     "name": "stdout",
     "output_type": "stream",
     "text": [
      "[master c1fc9f6] Last run on 2018-10-09 17:10:37.989459\n",
      " 1 file changed, 33 insertions(+), 7 deletions(-)\n",
      "Counting objects: 3, done.\n",
      "Delta compression using up to 4 threads.\n",
      "Compressing objects: 100% (3/3), done.\n",
      "Writing objects: 100% (3/3), 945 bytes | 945.00 KiB/s, done.\n",
      "Total 3 (delta 2), reused 0 (delta 0)\n",
      "remote: Resolving deltas: 100% (2/2), completed with 2 local objects.\u001b[K\n",
      "To github.com:vviers/automatic-GH-from-Jupyter.git\n",
      "   1318382..c1fc9f6  master -> master\n"
     ]
    }
   ],
   "source": [
    "import datetime\n",
    "now = datetime.datetime.now()\n",
    "commit_message = \"Last run on \" + str(now)\n",
    "\n",
    "! cd \"/Users/vincentviers/GIT/automatic-GH-from-Jupyter\"\n",
    "! echo $commit_message > commit_message.txt\n",
    "! git add .\n",
    "! git commit -F commit_message.txt\n",
    "! git push origin master"
   ]
  },
  {
   "cell_type": "markdown",
   "metadata": {},
   "source": [
    "All done! :) I can now navigate to my repository [here](https://github.com/vviers/automatic-GH-from-Jupyter) and check that the notebook has indeed been uploaded.\n",
    "\n",
    "Note that you may want to add your commit message to `.gitignore` since it need not be uploaded to GitHub.\n",
    "You can do this by running the following command from within your repository (and only once):\n",
    "\n",
    "`echo commit_message.txt >> .gitignore`"
   ]
  },
  {
   "cell_type": "markdown",
   "metadata": {},
   "source": [
    "Finally, there exists a couple of great Python wrappers to GitHub's API such as [PyGithub](https://github.com/PyGithub/PyGithub) or [pygithub3](https://github.com/copitux/python-github3) which are also very fun to play around with. My solution is however much simpler and doesn't require you to worry about tokens or passwords."
   ]
  }
 ],
 "metadata": {
  "kernelspec": {
   "display_name": "Python 3",
   "language": "python",
   "name": "python3"
  },
  "language_info": {
   "codemirror_mode": {
    "name": "ipython",
    "version": 3
   },
   "file_extension": ".py",
   "mimetype": "text/x-python",
   "name": "python",
   "nbconvert_exporter": "python",
   "pygments_lexer": "ipython3",
   "version": "3.6.5"
  }
 },
 "nbformat": 4,
 "nbformat_minor": 2
}
